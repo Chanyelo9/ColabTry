{
  "nbformat": 4,
  "nbformat_minor": 0,
  "metadata": {
    "colab": {
      "name": "Untitled0.ipynb",
      "provenance": [],
      "authorship_tag": "ABX9TyObReGZ3WA+G9rmbkG2zIzz",
      "include_colab_link": true
    },
    "kernelspec": {
      "name": "python3",
      "display_name": "Python 3"
    },
    "language_info": {
      "name": "python"
    }
  },
  "cells": [
    {
      "cell_type": "markdown",
      "metadata": {
        "id": "view-in-github",
        "colab_type": "text"
      },
      "source": [
        "<a href=\"https://colab.research.google.com/github/Chanyelo9/ColabTry/blob/main/Untitled0.ipynb\" target=\"_parent\"><img src=\"https://colab.research.google.com/assets/colab-badge.svg\" alt=\"Open In Colab\"/></a>"
      ]
    },
    {
      "cell_type": "code",
      "execution_count": 2,
      "metadata": {
        "colab": {
          "base_uri": "https://localhost:8080/"
        },
        "id": "fpeDHCLJE2QE",
        "outputId": "41e02ab3-c0ef-4953-a052-a6dcf2df42e6"
      },
      "outputs": [
        {
          "output_type": "stream",
          "name": "stdout",
          "text": [
            "HelloWorld!\n"
          ]
        }
      ],
      "source": [
        "print(\"HelloWorld!\")"
      ]
    },
    {
      "cell_type": "markdown",
      "source": [
        "# This is the title.\n",
        "This is the content."
      ],
      "metadata": {
        "id": "5mtaIsBiHUyV"
      }
    }
  ]
}